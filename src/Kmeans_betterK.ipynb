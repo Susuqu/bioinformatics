{
 "cells": [
  {
   "cell_type": "code",
   "execution_count": 7,
   "metadata": {},
   "outputs": [
    {
     "name": "stdout",
     "output_type": "stream",
     "text": [
      "(150, 4)\n"
     ]
    }
   ],
   "source": [
    "# https://blog.csdn.net/qq_15738501/article/details/79036255\n",
    "# https://blog.csdn.net/loveliuzz/article/details/78783773# 利用SSE选择K\n",
    "import matplotlib.pyplot as plt\n",
    "import numpy as np\n",
    "from sklearn.cluster import KMeans\n",
    "from sklearn import datasets\n",
    "iris=datasets.load_iris()\n",
    "X=iris.data\n",
    "print(X.shape)"
   ]
  },
  {
   "cell_type": "code",
   "execution_count": 2,
   "metadata": {},
   "outputs": [
    {
     "name": "stdout",
     "output_type": "stream",
     "text": [
      "[0 0 0 0 0 0 0 0 0 0 0 0 0 0 0 0 0 0 0 0 0 0 0 0 0 0 0 0 0 0 0 0 0 0 0 0 0\n",
      " 0 0 0 0 0 0 0 0 0 0 0 0 0 1 1 1 1 1 1 1 1 1 1 1 1 1 1 1 1 1 1 1 1 1 1 1 1\n",
      " 1 1 1 1 1 1 1 1 1 1 1 1 1 1 1 1 1 1 1 1 1 1 1 1 1 1 2 2 2 2 2 2 2 2 2 2 2\n",
      " 2 2 2 2 2 2 2 2 2 2 2 2 2 2 2 2 2 2 2 2 2 2 2 2 2 2 2 2 2 2 2 2 2 2 2 2 2\n",
      " 2 2]\n"
     ]
    }
   ],
   "source": [
    "y=iris.target\n",
    "print(y)"
   ]
  },
  {
   "cell_type": "code",
   "execution_count": 3,
   "metadata": {},
   "outputs": [],
   "source": [
    "SSE=[]\n",
    "# 存放每次结果的误差平方和\n",
    "for k in range(1,9):\n",
    "    estimator=KMeans(n_clusters=k)\n",
    "    estimator.fit(X)\n",
    "    SSE.append(estimator.inertia_)\n",
    "Xline=range(1,9)\n",
    "plt.xlabel('k')\n",
    "plt.ylabel('SSE')\n",
    "plt.plot(Xline,SSE,'o-')\n",
    "plt.show()"
   ]
  },
  {
   "cell_type": "code",
   "execution_count": 4,
   "metadata": {},
   "outputs": [],
   "source": [
    "# 可以对比看下，当我们设置聚类的个数从5开始，效果图什么样\n",
    "SSE=[]\n",
    "for k in range(5,19):\n",
    "    estimator=KMeans(n_clusters=k)\n",
    "    estimator.fit(X)\n",
    "    SSE.append(estimator.inertia_)\n",
    "Xline=range(5,19)\n",
    "plt.xlabel('k')\n",
    "plt.ylabel('SSE')\n",
    "plt.plot(Xline,SSE,'o-')\n",
    "plt.show()"
   ]
  },
  {
   "cell_type": "code",
   "execution_count": 15,
   "metadata": {},
   "outputs": [
    {
     "name": "stdout",
     "output_type": "stream",
     "text": [
      "0.024982981878435628\n",
      "0.09133282921387195\n",
      "0.979732379774876\n",
      "0.9898143158061901\n"
     ]
    }
   ],
   "source": [
    "# test for description\n",
    "data=np.random.normal(0,1,100)\n",
    "# 中心位置\n",
    "# print(mean(data))\n",
    "print(np.mean(data))\n",
    "print(np.median(data))\n",
    "\n",
    "# 发散程度\n",
    "print(np.var(data))\n",
    "print(np.std(data))\n"
   ]
  },
  {
   "cell_type": "code",
   "execution_count": 16,
   "metadata": {},
   "outputs": [],
   "source": [
    "np.median?"
   ]
  }
 ],
 "metadata": {
  "kernelspec": {
   "display_name": "Python 3",
   "language": "python",
   "name": "python3"
  },
  "language_info": {
   "codemirror_mode": {
    "name": "ipython",
    "version": 3
   },
   "file_extension": ".py",
   "mimetype": "text/x-python",
   "name": "python",
   "nbconvert_exporter": "python",
   "pygments_lexer": "ipython3",
   "version": "3.6.5"
  }
 },
 "nbformat": 4,
 "nbformat_minor": 1
}
