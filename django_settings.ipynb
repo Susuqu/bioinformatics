{
 "cells": [
  {
   "cell_type": "code",
   "execution_count": 5,
   "metadata": {},
   "outputs": [],
   "source": [
    "# test for django settings at jupyter website"
   ]
  },
  {
   "cell_type": "code",
   "execution_count": 14,
   "metadata": {},
   "outputs": [
    {
     "name": "stdout",
     "output_type": "stream",
     "text": [
      "总用量 132\r\n",
      "drwxr-xr-x. 3 qususu qususu    109 7月  23 10:42 \u001b[0m\u001b[01;34mmysite\u001b[0m/\r\n",
      "-rw-r--r--. 1 qususu qususu 131072 7月  23 10:07 db.sqlite3\r\n",
      "-rwxr-xr-x. 1 qususu qususu    538 7月  23 10:03 \u001b[01;32mmanage.py\u001b[0m*\r\n"
     ]
    }
   ],
   "source": [
    "ls -lt"
   ]
  },
  {
   "cell_type": "code",
   "execution_count": 16,
   "metadata": {},
   "outputs": [
    {
     "name": "stdout",
     "output_type": "stream",
     "text": [
      "总用量 16\r\n",
      "drwxr-xr-x. 2 qususu qususu  150 7月  23 10:42 \u001b[0m\u001b[01;34m__pycache__\u001b[0m/\r\n",
      "-rw-r--r--. 1 qususu qususu  254 7月  23 10:42 views.py\r\n",
      "-rw-r--r--. 1 qususu qususu  868 7月  23 10:41 urls.py\r\n",
      "-rw-r--r--. 1 qususu qususu 3091 7月  23 10:17 settings.py\r\n",
      "-rw-r--r--. 1 qususu qususu  389 7月  23 10:03 wsgi.py\r\n",
      "-rw-r--r--. 1 qususu qususu    0 7月  23 10:03 __init__.py\r\n"
     ]
    }
   ],
   "source": [
    "ls -lt"
   ]
  },
  {
   "cell_type": "code",
   "execution_count": null,
   "metadata": {},
   "outputs": [],
   "source": [
    "# key settings error and solutions\n",
    "vi mysite/settings.py\n",
    "# set ALLOWED_HOSTS=['*']\n",
    "\n",
    "python manage.py runserver 0.0.0.0:8000\n",
    "# set ip"
   ]
  }
 ],
 "metadata": {
  "kernelspec": {
   "display_name": "Python 3",
   "language": "python",
   "name": "python3"
  },
  "language_info": {
   "codemirror_mode": {
    "name": "ipython",
    "version": 3
   },
   "file_extension": ".py",
   "mimetype": "text/x-python",
   "name": "python",
   "nbconvert_exporter": "python",
   "pygments_lexer": "ipython3",
   "version": "3.6.4"
  }
 },
 "nbformat": 4,
 "nbformat_minor": 2
}
